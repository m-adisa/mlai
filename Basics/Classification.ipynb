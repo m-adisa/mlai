{
 "cells": [
  {
   "cell_type": "code",
   "execution_count": 1,
   "id": "b8f2322b",
   "metadata": {},
   "outputs": [],
   "source": [
    "# import necessary libraries\n",
    "import numpy as np\n",
    "import matplotlib.pyplot as plt"
   ]
  },
  {
   "cell_type": "code",
   "execution_count": 2,
   "id": "6bebe38f",
   "metadata": {},
   "outputs": [],
   "source": [
    "np.random.seed(0) # for reproducibility"
   ]
  },
  {
   "cell_type": "code",
   "execution_count": 3,
   "id": "aa647c57",
   "metadata": {},
   "outputs": [],
   "source": [
    "# dogs have higher ear flappiness index and lower whisker length\n",
    "# \"normal\" means gaussian distribution\n",
    "dogs_whisker_length = np.random.normal(loc=5, scale=1, size=10) # mean=5, std=1, n=10\n",
    "dogs_ear_flappiness_index =  np.random.normal(loc=8, scale=1, size=10) # mean=8, std=1, n=10"
   ]
  },
  {
   "cell_type": "code",
   "execution_count": 4,
   "id": "ec3bc184",
   "metadata": {},
   "outputs": [
    {
     "data": {
      "text/plain": [
       "array([6.76405235, 5.40015721, 5.97873798, 7.2408932 , 6.86755799,\n",
       "       4.02272212, 5.95008842, 4.84864279, 4.89678115, 5.4105985 ])"
      ]
     },
     "execution_count": 4,
     "metadata": {},
     "output_type": "execute_result"
    }
   ],
   "source": [
    "dogs_whisker_length"
   ]
  },
  {
   "cell_type": "code",
   "execution_count": 5,
   "id": "3ac31264",
   "metadata": {},
   "outputs": [
    {
     "data": {
      "text/plain": [
       "array([8.14404357, 9.45427351, 8.76103773, 8.12167502, 8.44386323,\n",
       "       8.33367433, 9.49407907, 7.79484174, 8.3130677 , 7.14590426])"
      ]
     },
     "execution_count": 5,
     "metadata": {},
     "output_type": "execute_result"
    }
   ],
   "source": [
    "dogs_ear_flappiness_index"
   ]
  },
  {
   "cell_type": "code",
   "execution_count": 16,
   "id": "6a4c04c8",
   "metadata": {},
   "outputs": [],
   "source": [
    "cat_whisker_length = np.random.normal(loc=8, scale=1, size=10) # mean=8, std=1, n=10\n",
    "cat_ear_flappiness_index =  np.random.normal(loc=5, scale=1, size=10) # mean=5, std=1, n=10"
   ]
  },
  {
   "cell_type": "code",
   "execution_count": 17,
   "id": "cd6cbe78",
   "metadata": {},
   "outputs": [
    {
     "data": {
      "text/plain": [
       "array([6.95144703, 6.57998206, 6.29372981, 9.9507754 , 7.49034782,\n",
       "       7.5619257 , 6.74720464, 8.77749036, 6.38610215, 7.78725972])"
      ]
     },
     "execution_count": 17,
     "metadata": {},
     "output_type": "execute_result"
    }
   ],
   "source": [
    "cat_whisker_length"
   ]
  },
  {
   "cell_type": "code",
   "execution_count": 18,
   "id": "ddfb506f",
   "metadata": {},
   "outputs": [
    {
     "data": {
      "text/plain": [
       "array([4.10453344, 5.3869025 , 4.48919486, 3.81936782, 4.97181777,\n",
       "       5.42833187, 5.06651722, 5.3024719 , 4.36567791, 4.63725883])"
      ]
     },
     "execution_count": 18,
     "metadata": {},
     "output_type": "execute_result"
    }
   ],
   "source": [
    "cat_ear_flappiness_index"
   ]
  },
  {
   "cell_type": "code",
   "execution_count": 9,
   "id": "203d2f94",
   "metadata": {},
   "outputs": [
    {
     "data": {
      "image/png": "[encoded data removed]",
      "text/plain": [
       "<Figure size 640x480 with 1 Axes>"
      ]
     },
     "metadata": {},
     "output_type": "display_data"
    }
   ],
   "source": [
    "# Plotting the data\n",
    "plt.scatter(dogs_whisker_length, dogs_ear_flappiness_index, label='Dogs', color='blue')\n",
    "plt.scatter(cat_whisker_length, cat_ear_flappiness_index, label='Cats', color='orange')\n",
    "plt.xlabel('Whisker Length')\n",
    "plt.ylabel('Ear Flappiness Index')\n",
    "plt.title('Dogs vs Cats Classification')\n",
    "plt.legend()\n",
    "plt.show()"
   ]
  },
  {
   "cell_type": "code",
   "execution_count": 12,
   "id": "4a425704",
   "metadata": {},
   "outputs": [],
   "source": [
    "# Implementing the random line classifier algorithm\n",
    "def random_linear_classifier(data_dogs, data_cats, k, d):\n",
    "    # d is the number features, i.e the dimension of the data (2 in this case)\n",
    "    best_error = float('inf')\n",
    "    best_theta = None\n",
    "    best_theta0 = None\n",
    "\n",
    "    for _ in range(k):\n",
    "        theta = np.random.normal(size=d)\n",
    "        theta0 = np.random.normal()\n",
    "\n",
    "        error = compute_error(data_dogs, data_cats, theta, theta0)\n",
    "\n",
    "        if error < best_error:\n",
    "            best_error = error\n",
    "            best_theta = theta\n",
    "            best_theta0 = theta0\n",
    "    \n",
    "    return best_theta, best_theta0"
   ]
  },
  {
   "cell_type": "code",
   "execution_count": 10,
   "id": "a3c3d99c",
   "metadata": {},
   "outputs": [],
   "source": [
    "def compute_error(data_dogs, data_cats, theta, theta0):\n",
    "    error = 0\n",
    "\n",
    "    for x_dog in data_dogs:\n",
    "        if np.dot(theta, x_dog) + theta0 <= 0: # misclassified as cat\n",
    "            error += 1\n",
    "\n",
    "    for x_cat in data_cats:\n",
    "        if np.dot(theta, x_cat) + theta0 > 0: # misclassified as dog\n",
    "            error += 1\n",
    "    \n",
    "    return error"
   ]
  },
  {
   "cell_type": "code",
   "execution_count": 13,
   "id": "ab87fc32",
   "metadata": {},
   "outputs": [],
   "source": [
    "dogs_data = np.vstack((dogs_whisker_length, dogs_ear_flappiness_index)).T\n",
    "cats_data = np.vstack((cat_whisker_length, cat_ear_flappiness_index)).T"
   ]
  },
  {
   "cell_type": "code",
   "execution_count": 14,
   "id": "ae7d6697",
   "metadata": {},
   "outputs": [
    {
     "data": {
      "text/plain": [
       "array([[6.76405235, 8.14404357],\n",
       "       [5.40015721, 9.45427351],\n",
       "       [5.97873798, 8.76103773],\n",
       "       [7.2408932 , 8.12167502],\n",
       "       [6.86755799, 8.44386323],\n",
       "       [4.02272212, 8.33367433],\n",
       "       [5.95008842, 9.49407907],\n",
       "       [4.84864279, 7.79484174],\n",
       "       [4.89678115, 8.3130677 ],\n",
       "       [5.4105985 , 7.14590426]])"
      ]
     },
     "execution_count": 14,
     "metadata": {},
     "output_type": "execute_result"
    }
   ],
   "source": [
    "dogs_data"
   ]
  },
  {
   "cell_type": "code",
   "execution_count": 15,
   "id": "6f5dc04d",
   "metadata": {},
   "outputs": [
    {
     "data": {
      "text/plain": [
       "array([[ 5.44701018,  5.15494743],\n",
       "       [ 8.6536186 ,  5.37816252],\n",
       "       [ 8.8644362 ,  4.11221425],\n",
       "       [ 7.25783498,  3.01920353],\n",
       "       [10.26975462,  4.65208785],\n",
       "       [ 6.54563433,  5.15634897],\n",
       "       [ 8.04575852,  6.23029068],\n",
       "       [ 7.81281615,  6.20237985],\n",
       "       [ 9.53277921,  4.61267318],\n",
       "       [ 9.46935877,  4.69769725]])"
      ]
     },
     "execution_count": 15,
     "metadata": {},
     "output_type": "execute_result"
    }
   ],
   "source": [
    "cats_data"
   ]
  },
  {
   "cell_type": "code",
   "execution_count": 19,
   "id": "ffe7759f",
   "metadata": {},
   "outputs": [],
   "source": [
    "# Running the random line classifier\n",
    "k = 100 # number of iterations\n",
    "d = 2 # number of features\n",
    "\n",
    "best_theta, best_theta0 = random_linear_classifier(dogs_data, cats_data, k, d)"
   ]
  },
  {
   "cell_type": "code",
   "execution_count": 20,
   "id": "f9a00d8e",
   "metadata": {},
   "outputs": [
    {
     "data": {
      "text/plain": [
       "array([-0.6801782 ,  0.66638308])"
      ]
     },
     "execution_count": 20,
     "metadata": {},
     "output_type": "execute_result"
    }
   ],
   "source": [
    "best_theta"
   ]
  },
  {
   "cell_type": "code",
   "execution_count": 21,
   "id": "ce8d0873",
   "metadata": {},
   "outputs": [
    {
     "data": {
      "text/plain": [
       "-0.4607197873885533"
      ]
     },
     "execution_count": 21,
     "metadata": {},
     "output_type": "execute_result"
    }
   ],
   "source": [
    "best_theta0"
   ]
  },
  {
   "cell_type": "code",
   "execution_count": 22,
   "id": "03039c1b",
   "metadata": {},
   "outputs": [],
   "source": [
    "# Plot the decision boundary\n",
    "x_values = np.linspace(2, 10, 100)\n",
    "y_values = (-best_theta[0] / best_theta[1]) * x_values - (best_theta0 / best_theta[1])"
   ]
  },
  {
   "cell_type": "code",
   "execution_count": 24,
   "id": "d083b8c3",
   "metadata": {},
   "outputs": [
    {
     "data": {
      "image/png": "[encoded data removed]",
      "text/plain": [
       "<Figure size 640x480 with 1 Axes>"
      ]
     },
     "metadata": {},
     "output_type": "display_data"
    }
   ],
   "source": [
    "# Plotting the data\n",
    "plt.scatter(dogs_whisker_length, dogs_ear_flappiness_index, label='Dogs', color='blue')\n",
    "plt.scatter(cat_whisker_length, cat_ear_flappiness_index, label='Cats', color='orange')\n",
    "plt.plot(x_values, y_values, color='red', linestyle='--', label='Decision Boundary')\n",
    "plt.xlabel('Whisker Length')\n",
    "plt.ylabel('Ear Flappiness Index')\n",
    "plt.title('Dogs vs Cats Classification With Random Linear Classifier')\n",
    "plt.legend()\n",
    "plt.show()"
   ]
  }
 ],
 "metadata": {
  "kernelspec": {
   "display_name": ".venv",
   "language": "python",
   "name": "python3"
  },
  "language_info": {
   "codemirror_mode": {
    "name": "ipython",
    "version": 3
   },
   "file_extension": ".py",
   "mimetype": "text/x-python",
   "name": "python",
   "nbconvert_exporter": "python",
   "pygments_lexer": "ipython3",
   "version": "3.12.3"
  }
 },
 "nbformat": 4,
 "nbformat_minor": 5
}
